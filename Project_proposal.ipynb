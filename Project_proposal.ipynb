{
 "cells": [
  {
   "cell_type": "markdown",
   "metadata": {},
   "source": [
    "Group 35 Project Proposal: Predicting Heart Disease"
   ]
  },
  {
   "cell_type": "markdown",
   "metadata": {},
   "source": [
    "Introduction\n",
    "\n",
    "The data below has been collected from 123 different patients and reports on specific aspects of their health with the purpose of determining the presence of heart disease in a patient. Similar data has been collected from hospitals in Budapest, Cleveland, and Switzerland, originally with 76 different variables. For the purposes of this project, the data used will only contain 14 variables, and is taken from the Hungarian Institute of Cardiology in Budapest. The question to be answered is: How present is heart disease in a patient, with categorical values ranging from 0 (no heart disease present) to 4?\n"
   ]
  },
  {
   "cell_type": "markdown",
   "metadata": {},
   "source": [
    "Preliminary Data Analysis"
   ]
  },
  {
   "cell_type": "code",
   "execution_count": 8,
   "metadata": {},
   "outputs": [
    {
     "name": "stderr",
     "output_type": "stream",
     "text": [
      "Warning message:\n",
      "“package ‘tidymodels’ was built under R version 4.0.2”\n",
      "── \u001b[1mAttaching packages\u001b[22m ────────────────────────────────────── tidymodels 0.1.1 ──\n",
      "\n",
      "\u001b[32m✔\u001b[39m \u001b[34mbroom    \u001b[39m 0.7.0      \u001b[32m✔\u001b[39m \u001b[34mrecipes  \u001b[39m 0.1.13\n",
      "\u001b[32m✔\u001b[39m \u001b[34mdials    \u001b[39m 0.0.9      \u001b[32m✔\u001b[39m \u001b[34mrsample  \u001b[39m 0.0.7 \n",
      "\u001b[32m✔\u001b[39m \u001b[34minfer    \u001b[39m 0.5.4      \u001b[32m✔\u001b[39m \u001b[34mtune     \u001b[39m 0.1.1 \n",
      "\u001b[32m✔\u001b[39m \u001b[34mmodeldata\u001b[39m 0.0.2      \u001b[32m✔\u001b[39m \u001b[34mworkflows\u001b[39m 0.2.0 \n",
      "\u001b[32m✔\u001b[39m \u001b[34mparsnip  \u001b[39m 0.1.3      \u001b[32m✔\u001b[39m \u001b[34myardstick\u001b[39m 0.0.7 \n",
      "\n",
      "Warning message:\n",
      "“package ‘broom’ was built under R version 4.0.2”\n",
      "Warning message:\n",
      "“package ‘dials’ was built under R version 4.0.2”\n",
      "Warning message:\n",
      "“package ‘infer’ was built under R version 4.0.3”\n",
      "Warning message:\n",
      "“package ‘modeldata’ was built under R version 4.0.1”\n",
      "Warning message:\n",
      "“package ‘parsnip’ was built under R version 4.0.2”\n",
      "Warning message:\n",
      "“package ‘recipes’ was built under R version 4.0.1”\n",
      "Warning message:\n",
      "“package ‘tune’ was built under R version 4.0.2”\n",
      "Warning message:\n",
      "“package ‘workflows’ was built under R version 4.0.2”\n",
      "Warning message:\n",
      "“package ‘yardstick’ was built under R version 4.0.2”\n",
      "── \u001b[1mConflicts\u001b[22m ───────────────────────────────────────── tidymodels_conflicts() ──\n",
      "\u001b[31m✖\u001b[39m \u001b[34mscales\u001b[39m::\u001b[32mdiscard()\u001b[39m masks \u001b[34mpurrr\u001b[39m::discard()\n",
      "\u001b[31m✖\u001b[39m \u001b[34mdplyr\u001b[39m::\u001b[32mfilter()\u001b[39m   masks \u001b[34mstats\u001b[39m::filter()\n",
      "\u001b[31m✖\u001b[39m \u001b[34mrecipes\u001b[39m::\u001b[32mfixed()\u001b[39m  masks \u001b[34mstringr\u001b[39m::fixed()\n",
      "\u001b[31m✖\u001b[39m \u001b[34mdplyr\u001b[39m::\u001b[32mlag()\u001b[39m      masks \u001b[34mstats\u001b[39m::lag()\n",
      "\u001b[31m✖\u001b[39m \u001b[34myardstick\u001b[39m::\u001b[32mspec()\u001b[39m masks \u001b[34mreadr\u001b[39m::spec()\n",
      "\u001b[31m✖\u001b[39m \u001b[34mrecipes\u001b[39m::\u001b[32mstep()\u001b[39m   masks \u001b[34mstats\u001b[39m::step()\n",
      "\n"
     ]
    }
   ],
   "source": [
    "# Load package\n",
    "library(tidyverse)\n",
    "library(digest)\n",
    "library(repr)\n",
    "library(tidymodels)\n",
    "library(GGally)\n",
    "library(ISLR)\n",
    "options(repr.matrix.max.rows = 6)"
   ]
  },
  {
   "cell_type": "code",
   "execution_count": 9,
   "metadata": {},
   "outputs": [
    {
     "name": "stderr",
     "output_type": "stream",
     "text": [
      "Parsed with column specification:\n",
      "cols(\n",
      "  X1 = \u001b[32mcol_double()\u001b[39m,\n",
      "  X2 = \u001b[32mcol_double()\u001b[39m,\n",
      "  X3 = \u001b[32mcol_double()\u001b[39m,\n",
      "  X4 = \u001b[32mcol_double()\u001b[39m,\n",
      "  X5 = \u001b[32mcol_double()\u001b[39m,\n",
      "  X6 = \u001b[32mcol_double()\u001b[39m,\n",
      "  X7 = \u001b[32mcol_double()\u001b[39m,\n",
      "  X8 = \u001b[32mcol_double()\u001b[39m,\n",
      "  X9 = \u001b[32mcol_double()\u001b[39m,\n",
      "  X10 = \u001b[32mcol_double()\u001b[39m,\n",
      "  X11 = \u001b[32mcol_double()\u001b[39m,\n",
      "  X12 = \u001b[32mcol_double()\u001b[39m,\n",
      "  X13 = \u001b[32mcol_double()\u001b[39m,\n",
      "  X14 = \u001b[32mcol_double()\u001b[39m\n",
      ")\n",
      "\n"
     ]
    }
   ],
   "source": [
    "# Read in the heart disease data, rename the column name and mutate all columns to be numeric\n",
    "url <- \"https://archive.ics.uci.edu/ml/machine-learning-databases/heart-disease/reprocessed.hungarian.data\"\n",
    "heart_disease <- read_delim(url, delim = \" \", col_names = FALSE) %>%\n",
    "                    rename(age = X1, sex = X2, chest_pain_type = X3, resting_BP = X4, cholesteral = X5, fasting_bs = X6, rest_ecg = X7,\n",
    "                           max_hr = X8, ex_angina = X9, st_depression = X10, slope_st = X11, num_major_vessels = X12, thal = X13, diagnosis = X14)"
   ]
  },
  {
   "cell_type": "code",
   "execution_count": 10,
   "metadata": {},
   "outputs": [
    {
     "data": {
      "text/html": [
       "<table>\n",
       "<caption>A tibble: 270 × 5</caption>\n",
       "<thead>\n",
       "\t<tr><th scope=col>age</th><th scope=col>resting_BP</th><th scope=col>cholesteral</th><th scope=col>max_hr</th><th scope=col>diagnosis</th></tr>\n",
       "\t<tr><th scope=col>&lt;dbl&gt;</th><th scope=col>&lt;dbl&gt;</th><th scope=col>&lt;dbl&gt;</th><th scope=col>&lt;dbl&gt;</th><th scope=col>&lt;fct&gt;</th></tr>\n",
       "</thead>\n",
       "<tbody>\n",
       "\t<tr><td>40</td><td>140</td><td>289</td><td>172</td><td>0</td></tr>\n",
       "\t<tr><td>49</td><td>160</td><td>180</td><td>156</td><td>1</td></tr>\n",
       "\t<tr><td>37</td><td>130</td><td>283</td><td> 98</td><td>0</td></tr>\n",
       "\t<tr><td>⋮</td><td>⋮</td><td>⋮</td><td>⋮</td><td>⋮</td></tr>\n",
       "\t<tr><td>48</td><td>110</td><td>211</td><td>138</td><td>0</td></tr>\n",
       "\t<tr><td>47</td><td>140</td><td>257</td><td>135</td><td>0</td></tr>\n",
       "\t<tr><td>53</td><td>130</td><td>182</td><td>148</td><td>0</td></tr>\n",
       "</tbody>\n",
       "</table>\n"
      ],
      "text/latex": [
       "A tibble: 270 × 5\n",
       "\\begin{tabular}{lllll}\n",
       " age & resting\\_BP & cholesteral & max\\_hr & diagnosis\\\\\n",
       " <dbl> & <dbl> & <dbl> & <dbl> & <fct>\\\\\n",
       "\\hline\n",
       "\t 40 & 140 & 289 & 172 & 0\\\\\n",
       "\t 49 & 160 & 180 & 156 & 1\\\\\n",
       "\t 37 & 130 & 283 &  98 & 0\\\\\n",
       "\t ⋮ & ⋮ & ⋮ & ⋮ & ⋮\\\\\n",
       "\t 48 & 110 & 211 & 138 & 0\\\\\n",
       "\t 47 & 140 & 257 & 135 & 0\\\\\n",
       "\t 53 & 130 & 182 & 148 & 0\\\\\n",
       "\\end{tabular}\n"
      ],
      "text/markdown": [
       "\n",
       "A tibble: 270 × 5\n",
       "\n",
       "| age &lt;dbl&gt; | resting_BP &lt;dbl&gt; | cholesteral &lt;dbl&gt; | max_hr &lt;dbl&gt; | diagnosis &lt;fct&gt; |\n",
       "|---|---|---|---|---|\n",
       "| 40 | 140 | 289 | 172 | 0 |\n",
       "| 49 | 160 | 180 | 156 | 1 |\n",
       "| 37 | 130 | 283 |  98 | 0 |\n",
       "| ⋮ | ⋮ | ⋮ | ⋮ | ⋮ |\n",
       "| 48 | 110 | 211 | 138 | 0 |\n",
       "| 47 | 140 | 257 | 135 | 0 |\n",
       "| 53 | 130 | 182 | 148 | 0 |\n",
       "\n"
      ],
      "text/plain": [
       "    age resting_BP cholesteral max_hr diagnosis\n",
       "1   40  140        289         172    0        \n",
       "2   49  160        180         156    1        \n",
       "3   37  130        283          98    0        \n",
       "⋮   ⋮   ⋮          ⋮           ⋮      ⋮        \n",
       "268 48  110        211         138    0        \n",
       "269 47  140        257         135    0        \n",
       "270 53  130        182         148    0        "
      ]
     },
     "metadata": {},
     "output_type": "display_data"
    }
   ],
   "source": [
    "# Mutate the diagnosis, sex, chest_pain_type, fasting_bs, rest_ecg, ex_angina columns to be factors\n",
    "heart_disease <- heart_disease %>%\n",
    "                mutate(diagnosis = as.factor(diagnosis))\n",
    "\n",
    "# Replace all \"-9\" as NA\n",
    "heart_disease <- heart_disease %>%\n",
    "                 mutate(across(where(is.numeric), ~na_if(., -9)))\n",
    "\n",
    "# Select age, resting_BP, cholesteral, and amx_hr columns, remove any rows that contain NA\n",
    "heart_disease_data <- heart_disease %>%\n",
    "                      select(age, resting_BP, cholesteral, max_hr, diagnosis) %>%\n",
    "                      na.omit() \n",
    "\n",
    "heart_disease_data"
   ]
  },
  {
   "cell_type": "code",
   "execution_count": 11,
   "metadata": {},
   "outputs": [
    {
     "data": {
      "text/html": [
       "<table>\n",
       "<caption>A tibble: 203 × 5</caption>\n",
       "<thead>\n",
       "\t<tr><th scope=col>age</th><th scope=col>resting_BP</th><th scope=col>cholesteral</th><th scope=col>max_hr</th><th scope=col>diagnosis</th></tr>\n",
       "\t<tr><th scope=col>&lt;dbl&gt;</th><th scope=col>&lt;dbl&gt;</th><th scope=col>&lt;dbl&gt;</th><th scope=col>&lt;dbl&gt;</th><th scope=col>&lt;fct&gt;</th></tr>\n",
       "</thead>\n",
       "<tbody>\n",
       "\t<tr><td>40</td><td>140</td><td>289</td><td>172</td><td>0</td></tr>\n",
       "\t<tr><td>49</td><td>160</td><td>180</td><td>156</td><td>1</td></tr>\n",
       "\t<tr><td>39</td><td>120</td><td>339</td><td>170</td><td>0</td></tr>\n",
       "\t<tr><td>⋮</td><td>⋮</td><td>⋮</td><td>⋮</td><td>⋮</td></tr>\n",
       "\t<tr><td>51</td><td>110</td><td>190</td><td>120</td><td>0</td></tr>\n",
       "\t<tr><td>36</td><td>120</td><td>166</td><td>180</td><td>0</td></tr>\n",
       "\t<tr><td>48</td><td>110</td><td>211</td><td>138</td><td>0</td></tr>\n",
       "</tbody>\n",
       "</table>\n"
      ],
      "text/latex": [
       "A tibble: 203 × 5\n",
       "\\begin{tabular}{lllll}\n",
       " age & resting\\_BP & cholesteral & max\\_hr & diagnosis\\\\\n",
       " <dbl> & <dbl> & <dbl> & <dbl> & <fct>\\\\\n",
       "\\hline\n",
       "\t 40 & 140 & 289 & 172 & 0\\\\\n",
       "\t 49 & 160 & 180 & 156 & 1\\\\\n",
       "\t 39 & 120 & 339 & 170 & 0\\\\\n",
       "\t ⋮ & ⋮ & ⋮ & ⋮ & ⋮\\\\\n",
       "\t 51 & 110 & 190 & 120 & 0\\\\\n",
       "\t 36 & 120 & 166 & 180 & 0\\\\\n",
       "\t 48 & 110 & 211 & 138 & 0\\\\\n",
       "\\end{tabular}\n"
      ],
      "text/markdown": [
       "\n",
       "A tibble: 203 × 5\n",
       "\n",
       "| age &lt;dbl&gt; | resting_BP &lt;dbl&gt; | cholesteral &lt;dbl&gt; | max_hr &lt;dbl&gt; | diagnosis &lt;fct&gt; |\n",
       "|---|---|---|---|---|\n",
       "| 40 | 140 | 289 | 172 | 0 |\n",
       "| 49 | 160 | 180 | 156 | 1 |\n",
       "| 39 | 120 | 339 | 170 | 0 |\n",
       "| ⋮ | ⋮ | ⋮ | ⋮ | ⋮ |\n",
       "| 51 | 110 | 190 | 120 | 0 |\n",
       "| 36 | 120 | 166 | 180 | 0 |\n",
       "| 48 | 110 | 211 | 138 | 0 |\n",
       "\n"
      ],
      "text/plain": [
       "    age resting_BP cholesteral max_hr diagnosis\n",
       "1   40  140        289         172    0        \n",
       "2   49  160        180         156    1        \n",
       "3   39  120        339         170    0        \n",
       "⋮   ⋮   ⋮          ⋮           ⋮      ⋮        \n",
       "201 51  110        190         120    0        \n",
       "202 36  120        166         180    0        \n",
       "203 48  110        211         138    0        "
      ]
     },
     "metadata": {},
     "output_type": "display_data"
    },
    {
     "data": {
      "text/html": [
       "<table>\n",
       "<caption>A tibble: 67 × 5</caption>\n",
       "<thead>\n",
       "\t<tr><th scope=col>age</th><th scope=col>resting_BP</th><th scope=col>cholesteral</th><th scope=col>max_hr</th><th scope=col>diagnosis</th></tr>\n",
       "\t<tr><th scope=col>&lt;dbl&gt;</th><th scope=col>&lt;dbl&gt;</th><th scope=col>&lt;dbl&gt;</th><th scope=col>&lt;dbl&gt;</th><th scope=col>&lt;fct&gt;</th></tr>\n",
       "</thead>\n",
       "<tbody>\n",
       "\t<tr><td>37</td><td>130</td><td>283</td><td> 98</td><td>0</td></tr>\n",
       "\t<tr><td>48</td><td>138</td><td>214</td><td>108</td><td>3</td></tr>\n",
       "\t<tr><td>54</td><td>120</td><td>273</td><td>150</td><td>0</td></tr>\n",
       "\t<tr><td>⋮</td><td>⋮</td><td>⋮</td><td>⋮</td><td>⋮</td></tr>\n",
       "\t<tr><td>55</td><td>110</td><td>344</td><td>160</td><td>0</td></tr>\n",
       "\t<tr><td>47</td><td>140</td><td>257</td><td>135</td><td>0</td></tr>\n",
       "\t<tr><td>53</td><td>130</td><td>182</td><td>148</td><td>0</td></tr>\n",
       "</tbody>\n",
       "</table>\n"
      ],
      "text/latex": [
       "A tibble: 67 × 5\n",
       "\\begin{tabular}{lllll}\n",
       " age & resting\\_BP & cholesteral & max\\_hr & diagnosis\\\\\n",
       " <dbl> & <dbl> & <dbl> & <dbl> & <fct>\\\\\n",
       "\\hline\n",
       "\t 37 & 130 & 283 &  98 & 0\\\\\n",
       "\t 48 & 138 & 214 & 108 & 3\\\\\n",
       "\t 54 & 120 & 273 & 150 & 0\\\\\n",
       "\t ⋮ & ⋮ & ⋮ & ⋮ & ⋮\\\\\n",
       "\t 55 & 110 & 344 & 160 & 0\\\\\n",
       "\t 47 & 140 & 257 & 135 & 0\\\\\n",
       "\t 53 & 130 & 182 & 148 & 0\\\\\n",
       "\\end{tabular}\n"
      ],
      "text/markdown": [
       "\n",
       "A tibble: 67 × 5\n",
       "\n",
       "| age &lt;dbl&gt; | resting_BP &lt;dbl&gt; | cholesteral &lt;dbl&gt; | max_hr &lt;dbl&gt; | diagnosis &lt;fct&gt; |\n",
       "|---|---|---|---|---|\n",
       "| 37 | 130 | 283 |  98 | 0 |\n",
       "| 48 | 138 | 214 | 108 | 3 |\n",
       "| 54 | 120 | 273 | 150 | 0 |\n",
       "| ⋮ | ⋮ | ⋮ | ⋮ | ⋮ |\n",
       "| 55 | 110 | 344 | 160 | 0 |\n",
       "| 47 | 140 | 257 | 135 | 0 |\n",
       "| 53 | 130 | 182 | 148 | 0 |\n",
       "\n"
      ],
      "text/plain": [
       "   age resting_BP cholesteral max_hr diagnosis\n",
       "1  37  130        283          98    0        \n",
       "2  48  138        214         108    3        \n",
       "3  54  120        273         150    0        \n",
       "⋮  ⋮   ⋮          ⋮           ⋮      ⋮        \n",
       "65 55  110        344         160    0        \n",
       "66 47  140        257         135    0        \n",
       "67 53  130        182         148    0        "
      ]
     },
     "metadata": {},
     "output_type": "display_data"
    }
   ],
   "source": [
    "# Set the seed\n",
    "set.seed(999) \n",
    "\n",
    "# Split the data into a training and test set\n",
    "\n",
    "heart_disease_split <- initial_split(heart_disease_data, prop = 0.75, strata = diagnosis)\n",
    "heart_disease_train <- training(heart_disease_split)\n",
    "heart_disease_test <- testing(heart_disease_split)\n",
    "\n",
    "heart_disease_train\n",
    "heart_disease_test"
   ]
  },
  {
   "cell_type": "code",
   "execution_count": 15,
   "metadata": {},
   "outputs": [],
   "source": [
    "# Create a ggpairs scatterplot of all the columns we are interested in including in our model\n",
    "options(repr.plot.width = 15, repr.plot.height = 10)\n",
    "heart_disease_eda <- ggpairs(heart_disease_train)"
   ]
  },
  {
   "cell_type": "code",
   "execution_count": 13,
   "metadata": {},
   "outputs": [
    {
     "name": "stderr",
     "output_type": "stream",
     "text": [
      "`summarise()` ungrouping output (override with `.groups` argument)\n",
      "\n"
     ]
    },
    {
     "data": {
      "text/html": [
       "<table>\n",
       "<caption>A tibble: 5 × 7</caption>\n",
       "<thead>\n",
       "\t<tr><th scope=col>diagnosis</th><th scope=col>avg_age</th><th scope=col>avg_resting_BP</th><th scope=col>avg_max_hr</th><th scope=col>avg_cholesteral</th><th scope=col>num_obs</th><th scope=col>percentage</th></tr>\n",
       "\t<tr><th scope=col>&lt;fct&gt;</th><th scope=col>&lt;dbl&gt;</th><th scope=col>&lt;dbl&gt;</th><th scope=col>&lt;dbl&gt;</th><th scope=col>&lt;dbl&gt;</th><th scope=col>&lt;int&gt;</th><th scope=col>&lt;dbl&gt;</th></tr>\n",
       "</thead>\n",
       "<tbody>\n",
       "\t<tr><td>0</td><td>47.1</td><td>130</td><td>146</td><td>244</td><td>129</td><td>63.5</td></tr>\n",
       "\t<tr><td>1</td><td>48.2</td><td>128</td><td>136</td><td>246</td><td> 28</td><td>13.8</td></tr>\n",
       "\t<tr><td>2</td><td>48.7</td><td>139</td><td>126</td><td>275</td><td> 17</td><td> 8.4</td></tr>\n",
       "\t<tr><td>3</td><td>52.6</td><td>140</td><td>118</td><td>289</td><td> 17</td><td> 8.4</td></tr>\n",
       "\t<tr><td>4</td><td>50.3</td><td>139</td><td>121</td><td>298</td><td> 12</td><td> 5.9</td></tr>\n",
       "</tbody>\n",
       "</table>\n"
      ],
      "text/latex": [
       "A tibble: 5 × 7\n",
       "\\begin{tabular}{lllllll}\n",
       " diagnosis & avg\\_age & avg\\_resting\\_BP & avg\\_max\\_hr & avg\\_cholesteral & num\\_obs & percentage\\\\\n",
       " <fct> & <dbl> & <dbl> & <dbl> & <dbl> & <int> & <dbl>\\\\\n",
       "\\hline\n",
       "\t 0 & 47.1 & 130 & 146 & 244 & 129 & 63.5\\\\\n",
       "\t 1 & 48.2 & 128 & 136 & 246 &  28 & 13.8\\\\\n",
       "\t 2 & 48.7 & 139 & 126 & 275 &  17 &  8.4\\\\\n",
       "\t 3 & 52.6 & 140 & 118 & 289 &  17 &  8.4\\\\\n",
       "\t 4 & 50.3 & 139 & 121 & 298 &  12 &  5.9\\\\\n",
       "\\end{tabular}\n"
      ],
      "text/markdown": [
       "\n",
       "A tibble: 5 × 7\n",
       "\n",
       "| diagnosis &lt;fct&gt; | avg_age &lt;dbl&gt; | avg_resting_BP &lt;dbl&gt; | avg_max_hr &lt;dbl&gt; | avg_cholesteral &lt;dbl&gt; | num_obs &lt;int&gt; | percentage &lt;dbl&gt; |\n",
       "|---|---|---|---|---|---|---|\n",
       "| 0 | 47.1 | 130 | 146 | 244 | 129 | 63.5 |\n",
       "| 1 | 48.2 | 128 | 136 | 246 |  28 | 13.8 |\n",
       "| 2 | 48.7 | 139 | 126 | 275 |  17 |  8.4 |\n",
       "| 3 | 52.6 | 140 | 118 | 289 |  17 |  8.4 |\n",
       "| 4 | 50.3 | 139 | 121 | 298 |  12 |  5.9 |\n",
       "\n"
      ],
      "text/plain": [
       "  diagnosis avg_age avg_resting_BP avg_max_hr avg_cholesteral num_obs\n",
       "1 0         47.1    130            146        244             129    \n",
       "2 1         48.2    128            136        246              28    \n",
       "3 2         48.7    139            126        275              17    \n",
       "4 3         52.6    140            118        289              17    \n",
       "5 4         50.3    139            121        298              12    \n",
       "  percentage\n",
       "1 63.5      \n",
       "2 13.8      \n",
       "3  8.4      \n",
       "4  8.4      \n",
       "5  5.9      "
      ]
     },
     "metadata": {},
     "output_type": "display_data"
    }
   ],
   "source": [
    "# Group by diagnosis and find average age, resting blood pressure ,cholesteral and maximum heart rate achieved, \n",
    "# the number of observations, and percentage in each group\n",
    "\n",
    "heart_disease_train_table <- heart_disease_train %>%\n",
    "                                select(age,resting_BP, max_hr, cholesteral, diagnosis)%>%\n",
    "                                group_by(diagnosis)%>%\n",
    "                                summarize(avg_age = round(mean(age), digits = 1),\n",
    "                                          avg_resting_BP = round(mean(resting_BP)),\n",
    "                                          avg_max_hr = round(mean(max_hr)),\n",
    "                                          avg_cholesteral = round(mean(cholesteral)),\n",
    "                                          num_obs = n(),\n",
    "                                          percentage = round(n()/ nrow(heart_disease_train)*100,digits = 1))\n",
    "\n",
    "heart_disease_train_table"
   ]
  },
  {
   "cell_type": "code",
   "execution_count": null,
   "metadata": {},
   "outputs": [],
   "source": [
    "# Plot for age vs. resting blood pressure\n",
    "\n",
    "options(repr.plot.width = 13, repr.plot.height = 8)\n",
    "\n",
    "resting_BP_plot <- heart_disease_train %>%\n",
    "                    ggplot(aes(x = age, y = resting_BP, color = diagnosis))+\n",
    "                    geom_point(position = \"jitter\")+\n",
    "                    labs(x = \"Age\", y = \"Resting Blood Pressure(mm Hg on admission to the hospital)\", colour = \"Diagnosis Of Heart Disease\")+\n",
    "                    ggtitle(\"Age vs. Resting Blood Pressure\")+\n",
    "                    theme(text = element_text(size = 20))+\n",
    "                    scale_y_continuous(labels = scales::comma)\n",
    "resting_BP_plot"
   ]
  },
  {
   "cell_type": "code",
   "execution_count": null,
   "metadata": {},
   "outputs": [],
   "source": [
    "# Plot for age vs. maximum heart rate achieved\n",
    "\n",
    "options(repr.plot.width = 13, repr.plot.height = 8)\n",
    "\n",
    "max_hr_plot <- heart_disease_train %>%\n",
    "                    ggplot(aes(x = age, y = max_hr, color = diagnosis))+\n",
    "                    geom_point(position = \"jitter\")+\n",
    "                    labs(x = \"Age\", y = \"Maximum Heart Rate Achieved\", colour = \"Diagnosis Of Heart Disease\")+\n",
    "                    ggtitle(\"Age vs. Maximum Heart Rate Achieved\")+\n",
    "                    theme(text = element_text(size = 20))+\n",
    "                    scale_y_continuous(labels = scales::comma)\n",
    "max_hr_plot"
   ]
  },
  {
   "cell_type": "markdown",
   "metadata": {},
   "source": [
    "Methods"
   ]
  },
  {
   "cell_type": "markdown",
   "metadata": {},
   "source": [
    "We will use KNN classification to predict the diagnosis. We will create a classifier, tune the classifier and visualize the results.\n",
    "\n",
    "We will use the variables: \n",
    "age = (yrs)\n",
    "sex = (1 = male, 0 = female)\n",
    "chest_pain_type = (1-4)\n",
    "resting_BP = resting blood pressure (mm Hg on admission to the hospital)\n",
    "rest_ecg = resting electrocardiographic results\n",
    "0: normal\n",
    "1: having ST-T wave abnormality (T wave inversions and/or ST elevation or depression of > 0.05 mV)\n",
    "2: showing probable or definite left ventricular hypertrophy by Estes' criteria\n",
    "max_hr = maximum heart rate achieved\n",
    "ex_angina = exercise induced angina (1 = yes; 0 = no)\n",
    "st_depression = ST depression induced by exercise relative to rest\n",
    "slope_st = the slope of the peak exercise ST segment (1: upsloping, 2: flat, 3: downsloping)\n",
    "thal = Thalassemia (3: normal; 6: fixed defect; 7: reversible defect)\n",
    "diagnosis = diagnosis of heart disease (Value 0: < 50% diameter narrowing, Value 1: > 50% diameter narrowing)\n",
    "\n",
    "We will make a plot of predicted and true diagnosis values with a best fit line through the true values, of \"a variable\" vs \"diagnosis\"\n",
    "\n"
   ]
  },
  {
   "cell_type": "code",
   "execution_count": null,
   "metadata": {},
   "outputs": [],
   "source": [
    "       "
   ]
  },
  {
   "cell_type": "markdown",
   "metadata": {},
   "source": [
    "Expected outcomes and Significance\n",
    "\n",
    "First, we expect to find the best KNN classifier which has the highest accuracy that predicts diagnosis.\n",
    "Second, we expect to find the best fitted line for the age and one (or several) specific aspect(s) of health. \n",
    "\n",
    "Assuming that a positive relationship exists between age and cholesterol level, for instance, there should be a best fitted line which has the least residues. And we can conclude that as people grow older, the possibility of obtaining a higher cholesterol becomes greater. If this conclusion holds true for age versus all other variables, we can say that people should pay more attention to heart disease as they grow older. \n",
    "This may lead to a few future questions. If there exists one or some variables that doesn’t have a linear relationship with sex, will the regression method we leaarnt still be working? Hence, what conclusion should we draw from our data? What’s more, since in our data, there’s also a column called “sex”, so what will happen if we take “sex” into consideration? Will our primary conclusion still hold true? If it does, how do the slopes of the best fitted line differ between  males and females? If it doesn’t, what will our further conclusion be like? \n"
   ]
  },
  {
   "cell_type": "code",
   "execution_count": null,
   "metadata": {},
   "outputs": [],
   "source": []
  }
 ],
 "metadata": {
  "kernelspec": {
   "display_name": "R",
   "language": "R",
   "name": "ir"
  },
  "language_info": {
   "codemirror_mode": "r",
   "file_extension": ".r",
   "mimetype": "text/x-r-source",
   "name": "R",
   "pygments_lexer": "r",
   "version": "4.0.0"
  }
 },
 "nbformat": 4,
 "nbformat_minor": 4
}
