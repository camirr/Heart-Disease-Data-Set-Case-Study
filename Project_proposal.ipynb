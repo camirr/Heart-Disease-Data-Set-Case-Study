{
 "cells": [
  {
   "cell_type": "markdown",
   "metadata": {},
   "source": [
    "TITLE"
   ]
  },
  {
   "cell_type": "markdown",
   "metadata": {},
   "source": [
    "INTRODUCTION"
   ]
  },
  {
   "cell_type": "markdown",
   "metadata": {},
   "source": [
    "PRELIMINARY DATA ANALYSIS"
   ]
  },
  {
   "cell_type": "code",
   "execution_count": 5,
   "metadata": {},
   "outputs": [
    {
     "name": "stderr",
     "output_type": "stream",
     "text": [
      "Warning message:\n",
      "“package ‘tidymodels’ was built under R version 4.0.2”\n",
      "── \u001b[1mAttaching packages\u001b[22m ────────────────────────────────────── tidymodels 0.1.1 ──\n",
      "\n",
      "\u001b[32m✔\u001b[39m \u001b[34mbroom    \u001b[39m 0.7.0      \u001b[32m✔\u001b[39m \u001b[34mrecipes  \u001b[39m 0.1.13\n",
      "\u001b[32m✔\u001b[39m \u001b[34mdials    \u001b[39m 0.0.9      \u001b[32m✔\u001b[39m \u001b[34mrsample  \u001b[39m 0.0.7 \n",
      "\u001b[32m✔\u001b[39m \u001b[34minfer    \u001b[39m 0.5.4      \u001b[32m✔\u001b[39m \u001b[34mtune     \u001b[39m 0.1.1 \n",
      "\u001b[32m✔\u001b[39m \u001b[34mmodeldata\u001b[39m 0.0.2      \u001b[32m✔\u001b[39m \u001b[34mworkflows\u001b[39m 0.2.0 \n",
      "\u001b[32m✔\u001b[39m \u001b[34mparsnip  \u001b[39m 0.1.3      \u001b[32m✔\u001b[39m \u001b[34myardstick\u001b[39m 0.0.7 \n",
      "\n",
      "Warning message:\n",
      "“package ‘broom’ was built under R version 4.0.2”\n",
      "Warning message:\n",
      "“package ‘dials’ was built under R version 4.0.2”\n",
      "Warning message:\n",
      "“package ‘infer’ was built under R version 4.0.3”\n",
      "Warning message:\n",
      "“package ‘modeldata’ was built under R version 4.0.1”\n",
      "Warning message:\n",
      "“package ‘parsnip’ was built under R version 4.0.2”\n",
      "Warning message:\n",
      "“package ‘recipes’ was built under R version 4.0.1”\n",
      "Warning message:\n",
      "“package ‘tune’ was built under R version 4.0.2”\n",
      "Warning message:\n",
      "“package ‘workflows’ was built under R version 4.0.2”\n",
      "Warning message:\n",
      "“package ‘yardstick’ was built under R version 4.0.2”\n",
      "── \u001b[1mConflicts\u001b[22m ───────────────────────────────────────── tidymodels_conflicts() ──\n",
      "\u001b[31m✖\u001b[39m \u001b[34mscales\u001b[39m::\u001b[32mdiscard()\u001b[39m masks \u001b[34mpurrr\u001b[39m::discard()\n",
      "\u001b[31m✖\u001b[39m \u001b[34mdplyr\u001b[39m::\u001b[32mfilter()\u001b[39m   masks \u001b[34mstats\u001b[39m::filter()\n",
      "\u001b[31m✖\u001b[39m \u001b[34mrecipes\u001b[39m::\u001b[32mfixed()\u001b[39m  masks \u001b[34mstringr\u001b[39m::fixed()\n",
      "\u001b[31m✖\u001b[39m \u001b[34mdplyr\u001b[39m::\u001b[32mlag()\u001b[39m      masks \u001b[34mstats\u001b[39m::lag()\n",
      "\u001b[31m✖\u001b[39m \u001b[34myardstick\u001b[39m::\u001b[32mspec()\u001b[39m masks \u001b[34mreadr\u001b[39m::spec()\n",
      "\u001b[31m✖\u001b[39m \u001b[34mrecipes\u001b[39m::\u001b[32mstep()\u001b[39m   masks \u001b[34mstats\u001b[39m::step()\n",
      "\n"
     ]
    }
   ],
   "source": [
    "library(tidyverse)\n",
    "library(digest)\n",
    "library(repr)\n",
    "library(tidymodels)\n",
    "options(repr.matrix.max.rows = 6)"
   ]
  },
  {
   "cell_type": "code",
   "execution_count": 12,
   "metadata": {},
   "outputs": [
    {
     "name": "stderr",
     "output_type": "stream",
     "text": [
      "Parsed with column specification:\n",
      "cols(\n",
      "  X1 = \u001b[32mcol_double()\u001b[39m,\n",
      "  X2 = \u001b[32mcol_double()\u001b[39m,\n",
      "  X3 = \u001b[32mcol_double()\u001b[39m,\n",
      "  X4 = \u001b[31mcol_character()\u001b[39m,\n",
      "  X5 = \u001b[32mcol_double()\u001b[39m,\n",
      "  X6 = \u001b[31mcol_character()\u001b[39m,\n",
      "  X7 = \u001b[31mcol_character()\u001b[39m,\n",
      "  X8 = \u001b[31mcol_character()\u001b[39m,\n",
      "  X9 = \u001b[31mcol_character()\u001b[39m,\n",
      "  X10 = \u001b[31mcol_character()\u001b[39m,\n",
      "  X11 = \u001b[31mcol_character()\u001b[39m,\n",
      "  X12 = \u001b[31mcol_character()\u001b[39m,\n",
      "  X13 = \u001b[31mcol_character()\u001b[39m,\n",
      "  X14 = \u001b[32mcol_double()\u001b[39m\n",
      ")\n",
      "\n"
     ]
    },
    {
     "data": {
      "text/html": [
       "<table>\n",
       "<caption>A spec_tbl_df: 123 × 14</caption>\n",
       "<thead>\n",
       "\t<tr><th scope=col>X1</th><th scope=col>X2</th><th scope=col>X3</th><th scope=col>X4</th><th scope=col>X5</th><th scope=col>X6</th><th scope=col>X7</th><th scope=col>X8</th><th scope=col>X9</th><th scope=col>X10</th><th scope=col>X11</th><th scope=col>X12</th><th scope=col>X13</th><th scope=col>X14</th></tr>\n",
       "\t<tr><th scope=col>&lt;dbl&gt;</th><th scope=col>&lt;dbl&gt;</th><th scope=col>&lt;dbl&gt;</th><th scope=col>&lt;chr&gt;</th><th scope=col>&lt;dbl&gt;</th><th scope=col>&lt;chr&gt;</th><th scope=col>&lt;chr&gt;</th><th scope=col>&lt;chr&gt;</th><th scope=col>&lt;chr&gt;</th><th scope=col>&lt;chr&gt;</th><th scope=col>&lt;chr&gt;</th><th scope=col>&lt;chr&gt;</th><th scope=col>&lt;chr&gt;</th><th scope=col>&lt;dbl&gt;</th></tr>\n",
       "</thead>\n",
       "<tbody>\n",
       "\t<tr><td>32</td><td>1</td><td>1</td><td>95 </td><td>0</td><td>?</td><td>0</td><td>127</td><td>0</td><td>.7</td><td>1</td><td>?</td><td>?</td><td>1</td></tr>\n",
       "\t<tr><td>34</td><td>1</td><td>4</td><td>115</td><td>0</td><td>?</td><td>?</td><td>154</td><td>0</td><td>.2</td><td>1</td><td>?</td><td>?</td><td>1</td></tr>\n",
       "\t<tr><td>35</td><td>1</td><td>4</td><td>?  </td><td>0</td><td>?</td><td>0</td><td>130</td><td>1</td><td>? </td><td>?</td><td>?</td><td>7</td><td>3</td></tr>\n",
       "\t<tr><td>⋮</td><td>⋮</td><td>⋮</td><td>⋮</td><td>⋮</td><td>⋮</td><td>⋮</td><td>⋮</td><td>⋮</td><td>⋮</td><td>⋮</td><td>⋮</td><td>⋮</td><td>⋮</td></tr>\n",
       "\t<tr><td>72</td><td>1</td><td>3</td><td>160</td><td>0</td><td>?</td><td>2</td><td>114</td><td>0</td><td>1.6</td><td>2</td><td>2</td><td>?</td><td>0</td></tr>\n",
       "\t<tr><td>73</td><td>0</td><td>3</td><td>160</td><td>0</td><td>0</td><td>1</td><td>121</td><td>0</td><td>0  </td><td>1</td><td>?</td><td>3</td><td>1</td></tr>\n",
       "\t<tr><td>74</td><td>1</td><td>2</td><td>145</td><td>0</td><td>?</td><td>1</td><td>123</td><td>0</td><td>1.3</td><td>1</td><td>?</td><td>?</td><td>1</td></tr>\n",
       "</tbody>\n",
       "</table>\n"
      ],
      "text/latex": [
       "A spec\\_tbl\\_df: 123 × 14\n",
       "\\begin{tabular}{llllllllllllll}\n",
       " X1 & X2 & X3 & X4 & X5 & X6 & X7 & X8 & X9 & X10 & X11 & X12 & X13 & X14\\\\\n",
       " <dbl> & <dbl> & <dbl> & <chr> & <dbl> & <chr> & <chr> & <chr> & <chr> & <chr> & <chr> & <chr> & <chr> & <dbl>\\\\\n",
       "\\hline\n",
       "\t 32 & 1 & 1 & 95  & 0 & ? & 0 & 127 & 0 & .7 & 1 & ? & ? & 1\\\\\n",
       "\t 34 & 1 & 4 & 115 & 0 & ? & ? & 154 & 0 & .2 & 1 & ? & ? & 1\\\\\n",
       "\t 35 & 1 & 4 & ?   & 0 & ? & 0 & 130 & 1 & ?  & ? & ? & 7 & 3\\\\\n",
       "\t ⋮ & ⋮ & ⋮ & ⋮ & ⋮ & ⋮ & ⋮ & ⋮ & ⋮ & ⋮ & ⋮ & ⋮ & ⋮ & ⋮\\\\\n",
       "\t 72 & 1 & 3 & 160 & 0 & ? & 2 & 114 & 0 & 1.6 & 2 & 2 & ? & 0\\\\\n",
       "\t 73 & 0 & 3 & 160 & 0 & 0 & 1 & 121 & 0 & 0   & 1 & ? & 3 & 1\\\\\n",
       "\t 74 & 1 & 2 & 145 & 0 & ? & 1 & 123 & 0 & 1.3 & 1 & ? & ? & 1\\\\\n",
       "\\end{tabular}\n"
      ],
      "text/markdown": [
       "\n",
       "A spec_tbl_df: 123 × 14\n",
       "\n",
       "| X1 &lt;dbl&gt; | X2 &lt;dbl&gt; | X3 &lt;dbl&gt; | X4 &lt;chr&gt; | X5 &lt;dbl&gt; | X6 &lt;chr&gt; | X7 &lt;chr&gt; | X8 &lt;chr&gt; | X9 &lt;chr&gt; | X10 &lt;chr&gt; | X11 &lt;chr&gt; | X12 &lt;chr&gt; | X13 &lt;chr&gt; | X14 &lt;dbl&gt; |\n",
       "|---|---|---|---|---|---|---|---|---|---|---|---|---|---|\n",
       "| 32 | 1 | 1 | 95  | 0 | ? | 0 | 127 | 0 | .7 | 1 | ? | ? | 1 |\n",
       "| 34 | 1 | 4 | 115 | 0 | ? | ? | 154 | 0 | .2 | 1 | ? | ? | 1 |\n",
       "| 35 | 1 | 4 | ?   | 0 | ? | 0 | 130 | 1 | ?  | ? | ? | 7 | 3 |\n",
       "| ⋮ | ⋮ | ⋮ | ⋮ | ⋮ | ⋮ | ⋮ | ⋮ | ⋮ | ⋮ | ⋮ | ⋮ | ⋮ | ⋮ |\n",
       "| 72 | 1 | 3 | 160 | 0 | ? | 2 | 114 | 0 | 1.6 | 2 | 2 | ? | 0 |\n",
       "| 73 | 0 | 3 | 160 | 0 | 0 | 1 | 121 | 0 | 0   | 1 | ? | 3 | 1 |\n",
       "| 74 | 1 | 2 | 145 | 0 | ? | 1 | 123 | 0 | 1.3 | 1 | ? | ? | 1 |\n",
       "\n"
      ],
      "text/plain": [
       "    X1 X2 X3 X4  X5 X6 X7 X8  X9 X10 X11 X12 X13 X14\n",
       "1   32 1  1  95  0  ?  0  127 0  .7  1   ?   ?   1  \n",
       "2   34 1  4  115 0  ?  ?  154 0  .2  1   ?   ?   1  \n",
       "3   35 1  4  ?   0  ?  0  130 1  ?   ?   ?   7   3  \n",
       "⋮   ⋮  ⋮  ⋮  ⋮   ⋮  ⋮  ⋮  ⋮   ⋮  ⋮   ⋮   ⋮   ⋮   ⋮  \n",
       "121 72 1  3  160 0  ?  2  114 0  1.6 2   2   ?   0  \n",
       "122 73 0  3  160 0  0  1  121 0  0   1   ?   3   1  \n",
       "123 74 1  2  145 0  ?  1  123 0  1.3 1   ?   ?   1  "
      ]
     },
     "metadata": {},
     "output_type": "display_data"
    }
   ],
   "source": [
    "heart_disease_data <- read_csv(\"/home/jupyter/Group_35_project_proposal/processed.switzerland.data\", col_names = FALSE) %>%\n",
    "                        rename(age = X1, sex = X2, chest_pain_type = X3, resting_BP = X4, cholesteral = X5, fasting_bs = X6, rest_ecg = X7,\n",
    "                                  max_hr = X8, ex_angina = X9, st_depression = X10, slope_st = X11, num_)\n",
    "heart_disease_data"
   ]
  },
  {
   "cell_type": "markdown",
   "metadata": {},
   "source": [
    "METHODS"
   ]
  },
  {
   "cell_type": "markdown",
   "metadata": {},
   "source": [
    "EXPECTED OUTCOMES / SIGNIFICANCE"
   ]
  }
 ],
 "metadata": {
  "kernelspec": {
   "display_name": "R",
   "language": "R",
   "name": "ir"
  },
  "language_info": {
   "codemirror_mode": "r",
   "file_extension": ".r",
   "mimetype": "text/x-r-source",
   "name": "R",
   "pygments_lexer": "r",
   "version": "4.0.0"
  }
 },
 "nbformat": 4,
 "nbformat_minor": 4
}
